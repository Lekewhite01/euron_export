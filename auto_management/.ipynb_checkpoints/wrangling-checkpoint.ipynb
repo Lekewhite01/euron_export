{
 "cells": [
  {
   "cell_type": "code",
   "execution_count": 4,
   "id": "a2e3c78c-5132-4adf-81d3-bc8c569b7ca6",
   "metadata": {
    "tags": []
   },
   "outputs": [],
   "source": [
    "import re\n",
    "import os\n",
    "import glob\n",
    "import pandas as pd"
   ]
  },
  {
   "cell_type": "code",
   "execution_count": 5,
   "id": "2cdd48ea-ce84-4311-ad92-8e340bfad1d7",
   "metadata": {
    "tags": []
   },
   "outputs": [],
   "source": [
    "# Specify the folder path and the regex pattern for file names\n",
    "folder_path = './data'\n",
    "file_pattern = '*.csv'  # Adjust the pattern as needed\n",
    "\n",
    "# Use glob to get a list of file paths that match the pattern\n",
    "file_paths = glob.glob(f'{folder_path}/{file_pattern}')\n",
    "\n",
    "# Create an empty list to store DataFrames\n",
    "dataframes = []\n",
    "\n",
    "# Loop through the file paths and read each CSV file into a DataFrame\n",
    "for file_path in file_paths:\n",
    "    # Extract the file name using regex\n",
    "    file_name = re.search(r'([^\\/]+)\\.csv', file_path).group(1)\n",
    "    \n",
    "    # Read the CSV file into a DataFrame\n",
    "    df = pd.read_csv(file_path)\n",
    "    \n",
    "    # Add a column with the file name to identify the source\n",
    "    # df['source_file'] = file_name\n",
    "    \n",
    "    # Append the DataFrame to the list\n",
    "    dataframes.append(df)"
   ]
  },
  {
   "cell_type": "code",
   "execution_count": 6,
   "id": "d7d627bb-252a-4118-87cb-93ab678b6054",
   "metadata": {
    "tags": []
   },
   "outputs": [
    {
     "data": {
      "text/plain": [
       "['customer.csv',\n",
       " 'car.csv',\n",
       " 'service_request.csv',\n",
       " 'closed_request.csv',\n",
       " 'owns.csv',\n",
       " 'mechanic.csv']"
      ]
     },
     "execution_count": 6,
     "metadata": {},
     "output_type": "execute_result"
    }
   ],
   "source": [
    "# List the files in the order which there were read in with pandas for correct unpacking\n",
    "os.listdir(\"./data\")"
   ]
  },
  {
   "cell_type": "code",
   "execution_count": 7,
   "id": "0bc94df0-facf-4b4d-a6a5-5b38d3bbdd10",
   "metadata": {
    "tags": []
   },
   "outputs": [],
   "source": [
    "customer_df, car_df, service_df, closed_request_df, owns_df, mechanic_df = dataframes"
   ]
  },
  {
   "cell_type": "code",
   "execution_count": 12,
   "id": "25d81c88-0645-451c-9bfc-f034203b0510",
   "metadata": {
    "tags": []
   },
   "outputs": [
    {
     "data": {
      "text/html": [
       "<div>\n",
       "<style scoped>\n",
       "    .dataframe tbody tr th:only-of-type {\n",
       "        vertical-align: middle;\n",
       "    }\n",
       "\n",
       "    .dataframe tbody tr th {\n",
       "        vertical-align: top;\n",
       "    }\n",
       "\n",
       "    .dataframe thead th {\n",
       "        text-align: right;\n",
       "    }\n",
       "</style>\n",
       "<table border=\"1\" class=\"dataframe\">\n",
       "  <thead>\n",
       "    <tr style=\"text-align: right;\">\n",
       "      <th></th>\n",
       "      <th>id</th>\n",
       "      <th>first_name</th>\n",
       "      <th>last_name</th>\n",
       "      <th>phone_number</th>\n",
       "      <th>address</th>\n",
       "    </tr>\n",
       "  </thead>\n",
       "  <tbody>\n",
       "    <tr>\n",
       "      <th>0</th>\n",
       "      <td>1</td>\n",
       "      <td>Alberto</td>\n",
       "      <td>Scarlett</td>\n",
       "      <td>(337)926-8804</td>\n",
       "      <td>8120 Bald Hill Street Baton Rouge</td>\n",
       "    </tr>\n",
       "    <tr>\n",
       "      <th>1</th>\n",
       "      <td>2</td>\n",
       "      <td>Wyatt</td>\n",
       "      <td>Ruoff</td>\n",
       "      <td>(516)560-5642</td>\n",
       "      <td>9169 Campfire Ave. Cockeysville</td>\n",
       "    </tr>\n",
       "    <tr>\n",
       "      <th>2</th>\n",
       "      <td>3</td>\n",
       "      <td>Alfonso</td>\n",
       "      <td>Denmark</td>\n",
       "      <td>(515)325-7213</td>\n",
       "      <td>88 Young Avenue Oak Forest</td>\n",
       "    </tr>\n",
       "    <tr>\n",
       "      <th>3</th>\n",
       "      <td>4</td>\n",
       "      <td>Pearl</td>\n",
       "      <td>Straube</td>\n",
       "      <td>(637)979-1751</td>\n",
       "      <td>724 East Warren St. New Brunswick</td>\n",
       "    </tr>\n",
       "    <tr>\n",
       "      <th>4</th>\n",
       "      <td>5</td>\n",
       "      <td>Vincent</td>\n",
       "      <td>Wohlwend</td>\n",
       "      <td>(347)285-2855</td>\n",
       "      <td>797 Spruce Dr. Lanham</td>\n",
       "    </tr>\n",
       "  </tbody>\n",
       "</table>\n",
       "</div>"
      ],
      "text/plain": [
       "   id first_name last_name   phone_number                            address\n",
       "0   1    Alberto  Scarlett  (337)926-8804  8120 Bald Hill Street Baton Rouge\n",
       "1   2      Wyatt     Ruoff  (516)560-5642    9169 Campfire Ave. Cockeysville\n",
       "2   3    Alfonso   Denmark  (515)325-7213         88 Young Avenue Oak Forest\n",
       "3   4      Pearl   Straube  (637)979-1751  724 East Warren St. New Brunswick\n",
       "4   5    Vincent  Wohlwend  (347)285-2855              797 Spruce Dr. Lanham"
      ]
     },
     "execution_count": 12,
     "metadata": {},
     "output_type": "execute_result"
    }
   ],
   "source": [
    "customer_df.columns = [\"id\", \"first_name\", \"last_name\", \"phone_number\", \"address\"]\n",
    "customer_df.head()"
   ]
  },
  {
   "cell_type": "code",
   "execution_count": 14,
   "id": "048973bb-7801-446f-9c22-50d359d47cfd",
   "metadata": {
    "tags": []
   },
   "outputs": [
    {
     "data": {
      "text/html": [
       "<div>\n",
       "<style scoped>\n",
       "    .dataframe tbody tr th:only-of-type {\n",
       "        vertical-align: middle;\n",
       "    }\n",
       "\n",
       "    .dataframe tbody tr th {\n",
       "        vertical-align: top;\n",
       "    }\n",
       "\n",
       "    .dataframe thead th {\n",
       "        text-align: right;\n",
       "    }\n",
       "</style>\n",
       "<table border=\"1\" class=\"dataframe\">\n",
       "  <thead>\n",
       "    <tr style=\"text-align: right;\">\n",
       "      <th></th>\n",
       "      <th>vin</th>\n",
       "      <th>make</th>\n",
       "      <th>model</th>\n",
       "      <th>year</th>\n",
       "    </tr>\n",
       "  </thead>\n",
       "  <tbody>\n",
       "    <tr>\n",
       "      <th>0</th>\n",
       "      <td>IORSVN4427624382</td>\n",
       "      <td>Lamborghini</td>\n",
       "      <td>M1</td>\n",
       "      <td>2005</td>\n",
       "    </tr>\n",
       "    <tr>\n",
       "      <th>1</th>\n",
       "      <td>OPBSAH6612868960</td>\n",
       "      <td>Ford</td>\n",
       "      <td>Sunny</td>\n",
       "      <td>2015</td>\n",
       "    </tr>\n",
       "    <tr>\n",
       "      <th>2</th>\n",
       "      <td>SPIKGI5665802983</td>\n",
       "      <td>Vauxhal</td>\n",
       "      <td>Passat</td>\n",
       "      <td>2006</td>\n",
       "    </tr>\n",
       "    <tr>\n",
       "      <th>3</th>\n",
       "      <td>ZTBPOX7141614869</td>\n",
       "      <td>Citroen</td>\n",
       "      <td>C3</td>\n",
       "      <td>2011</td>\n",
       "    </tr>\n",
       "    <tr>\n",
       "      <th>4</th>\n",
       "      <td>TWMSHZ5260896382</td>\n",
       "      <td>Bristol</td>\n",
       "      <td>DB</td>\n",
       "      <td>2012</td>\n",
       "    </tr>\n",
       "  </tbody>\n",
       "</table>\n",
       "</div>"
      ],
      "text/plain": [
       "                vin         make   model  year\n",
       "0  IORSVN4427624382  Lamborghini      M1  2005\n",
       "1  OPBSAH6612868960         Ford   Sunny  2015\n",
       "2  SPIKGI5665802983      Vauxhal  Passat  2006\n",
       "3  ZTBPOX7141614869      Citroen      C3  2011\n",
       "4  TWMSHZ5260896382      Bristol      DB  2012"
      ]
     },
     "execution_count": 14,
     "metadata": {},
     "output_type": "execute_result"
    }
   ],
   "source": [
    "car_df.columns = [\"vin\", \"make\", \"model\", \"year\"]\n",
    "car_df.head()"
   ]
  },
  {
   "cell_type": "code",
   "execution_count": 16,
   "id": "4f5478cc-589b-427b-8c1e-7b8f396cf717",
   "metadata": {
    "tags": []
   },
   "outputs": [
    {
     "data": {
      "text/html": [
       "<div>\n",
       "<style scoped>\n",
       "    .dataframe tbody tr th:only-of-type {\n",
       "        vertical-align: middle;\n",
       "    }\n",
       "\n",
       "    .dataframe tbody tr th {\n",
       "        vertical-align: top;\n",
       "    }\n",
       "\n",
       "    .dataframe thead th {\n",
       "        text-align: right;\n",
       "    }\n",
       "</style>\n",
       "<table border=\"1\" class=\"dataframe\">\n",
       "  <thead>\n",
       "    <tr style=\"text-align: right;\">\n",
       "      <th></th>\n",
       "      <th>request_id</th>\n",
       "      <th>customer_id</th>\n",
       "      <th>car_vin</th>\n",
       "      <th>date</th>\n",
       "      <th>odometer</th>\n",
       "      <th>complain</th>\n",
       "    </tr>\n",
       "  </thead>\n",
       "  <tbody>\n",
       "    <tr>\n",
       "      <th>0</th>\n",
       "      <td>1</td>\n",
       "      <td>87</td>\n",
       "      <td>ZAIWSE9730973323</td>\n",
       "      <td>10/17/2016 00:00</td>\n",
       "      <td>62288</td>\n",
       "      <td>The wheel does not turn right</td>\n",
       "    </tr>\n",
       "    <tr>\n",
       "      <th>1</th>\n",
       "      <td>2</td>\n",
       "      <td>21</td>\n",
       "      <td>RJBMKY7364717712</td>\n",
       "      <td>2/12/2016 00:00</td>\n",
       "      <td>137398</td>\n",
       "      <td>Burns too much gas</td>\n",
       "    </tr>\n",
       "    <tr>\n",
       "      <th>2</th>\n",
       "      <td>3</td>\n",
       "      <td>234</td>\n",
       "      <td>PJILTP5532102960</td>\n",
       "      <td>1/1/2016 00:00</td>\n",
       "      <td>107264</td>\n",
       "      <td>The wheel does not turn right</td>\n",
       "    </tr>\n",
       "    <tr>\n",
       "      <th>3</th>\n",
       "      <td>4</td>\n",
       "      <td>499</td>\n",
       "      <td>IGSCTT8349812312</td>\n",
       "      <td>7/9/2016 00:00</td>\n",
       "      <td>145437</td>\n",
       "      <td>No brakes</td>\n",
       "    </tr>\n",
       "    <tr>\n",
       "      <th>4</th>\n",
       "      <td>5</td>\n",
       "      <td>99</td>\n",
       "      <td>ELBWIE1987678371</td>\n",
       "      <td>8/17/2016 00:00</td>\n",
       "      <td>181150</td>\n",
       "      <td>Change oil</td>\n",
       "    </tr>\n",
       "  </tbody>\n",
       "</table>\n",
       "</div>"
      ],
      "text/plain": [
       "   request_id  customer_id           car_vin              date  odometer  \\\n",
       "0           1           87  ZAIWSE9730973323  10/17/2016 00:00     62288   \n",
       "1           2           21  RJBMKY7364717712   2/12/2016 00:00    137398   \n",
       "2           3          234  PJILTP5532102960    1/1/2016 00:00    107264   \n",
       "3           4          499  IGSCTT8349812312    7/9/2016 00:00    145437   \n",
       "4           5           99  ELBWIE1987678371   8/17/2016 00:00    181150   \n",
       "\n",
       "                        complain  \n",
       "0  The wheel does not turn right  \n",
       "1             Burns too much gas  \n",
       "2  The wheel does not turn right  \n",
       "3                      No brakes  \n",
       "4                     Change oil  "
      ]
     },
     "execution_count": 16,
     "metadata": {},
     "output_type": "execute_result"
    }
   ],
   "source": [
    "service_df.columns = [\"request_id\", \"customer_id\", \"car_vin\", \"date\", \"odometer\", \"complain\"]\n",
    "service_df.head()"
   ]
  },
  {
   "cell_type": "code",
   "execution_count": 17,
   "id": "e5f1b12a-2994-4ae2-b2b1-f71f4f642bfb",
   "metadata": {
    "tags": []
   },
   "outputs": [
    {
     "data": {
      "text/html": [
       "<div>\n",
       "<style scoped>\n",
       "    .dataframe tbody tr th:only-of-type {\n",
       "        vertical-align: middle;\n",
       "    }\n",
       "\n",
       "    .dataframe tbody tr th {\n",
       "        vertical-align: top;\n",
       "    }\n",
       "\n",
       "    .dataframe thead th {\n",
       "        text-align: right;\n",
       "    }\n",
       "</style>\n",
       "<table border=\"1\" class=\"dataframe\">\n",
       "  <thead>\n",
       "    <tr style=\"text-align: right;\">\n",
       "      <th></th>\n",
       "      <th>1</th>\n",
       "      <th>1.1</th>\n",
       "      <th>230</th>\n",
       "      <th>10/22/2016 00:00</th>\n",
       "      <th>We lost your car</th>\n",
       "      <th>96</th>\n",
       "    </tr>\n",
       "  </thead>\n",
       "  <tbody>\n",
       "    <tr>\n",
       "      <th>0</th>\n",
       "      <td>2</td>\n",
       "      <td>2</td>\n",
       "      <td>215</td>\n",
       "      <td>2/18/2016 00:00</td>\n",
       "      <td>We changed the color</td>\n",
       "      <td>592</td>\n",
       "    </tr>\n",
       "    <tr>\n",
       "      <th>1</th>\n",
       "      <td>3</td>\n",
       "      <td>3</td>\n",
       "      <td>34</td>\n",
       "      <td>1/5/2016 00:00</td>\n",
       "      <td>This is a bicycle</td>\n",
       "      <td>77</td>\n",
       "    </tr>\n",
       "    <tr>\n",
       "      <th>2</th>\n",
       "      <td>4</td>\n",
       "      <td>4</td>\n",
       "      <td>204</td>\n",
       "      <td>7/10/2016 00:00</td>\n",
       "      <td>This is a bicycle</td>\n",
       "      <td>976</td>\n",
       "    </tr>\n",
       "    <tr>\n",
       "      <th>3</th>\n",
       "      <td>5</td>\n",
       "      <td>5</td>\n",
       "      <td>11</td>\n",
       "      <td>8/22/2016 00:00</td>\n",
       "      <td>Changed Oil</td>\n",
       "      <td>481</td>\n",
       "    </tr>\n",
       "    <tr>\n",
       "      <th>4</th>\n",
       "      <td>6</td>\n",
       "      <td>6</td>\n",
       "      <td>104</td>\n",
       "      <td>1/14/2016 00:00</td>\n",
       "      <td>Breaks are ok</td>\n",
       "      <td>278</td>\n",
       "    </tr>\n",
       "  </tbody>\n",
       "</table>\n",
       "</div>"
      ],
      "text/plain": [
       "   1  1.1  230 10/22/2016 00:00      We lost your car   96\n",
       "0  2    2  215  2/18/2016 00:00  We changed the color  592\n",
       "1  3    3   34   1/5/2016 00:00     This is a bicycle   77\n",
       "2  4    4  204  7/10/2016 00:00     This is a bicycle  976\n",
       "3  5    5   11  8/22/2016 00:00           Changed Oil  481\n",
       "4  6    6  104  1/14/2016 00:00         Breaks are ok  278"
      ]
     },
     "execution_count": 17,
     "metadata": {},
     "output_type": "execute_result"
    }
   ],
   "source": [
    "closed_request_df.head()"
   ]
  },
  {
   "cell_type": "code",
   "execution_count": 18,
   "id": "05f491ed-80dc-45ca-91ef-90daf02d97ec",
   "metadata": {
    "tags": []
   },
   "outputs": [
    {
     "data": {
      "text/html": [
       "<div>\n",
       "<style scoped>\n",
       "    .dataframe tbody tr th:only-of-type {\n",
       "        vertical-align: middle;\n",
       "    }\n",
       "\n",
       "    .dataframe tbody tr th {\n",
       "        vertical-align: top;\n",
       "    }\n",
       "\n",
       "    .dataframe thead th {\n",
       "        text-align: right;\n",
       "    }\n",
       "</style>\n",
       "<table border=\"1\" class=\"dataframe\">\n",
       "  <thead>\n",
       "    <tr style=\"text-align: right;\">\n",
       "      <th></th>\n",
       "      <th></th>\n",
       "      <th>request_id</th>\n",
       "      <th></th>\n",
       "      <th>date</th>\n",
       "      <th>comment</th>\n",
       "      <th>bill</th>\n",
       "    </tr>\n",
       "  </thead>\n",
       "  <tbody>\n",
       "    <tr>\n",
       "      <th>0</th>\n",
       "      <td>2</td>\n",
       "      <td>2</td>\n",
       "      <td>215</td>\n",
       "      <td>2/18/2016 00:00</td>\n",
       "      <td>We changed the color</td>\n",
       "      <td>592</td>\n",
       "    </tr>\n",
       "    <tr>\n",
       "      <th>1</th>\n",
       "      <td>3</td>\n",
       "      <td>3</td>\n",
       "      <td>34</td>\n",
       "      <td>1/5/2016 00:00</td>\n",
       "      <td>This is a bicycle</td>\n",
       "      <td>77</td>\n",
       "    </tr>\n",
       "    <tr>\n",
       "      <th>2</th>\n",
       "      <td>4</td>\n",
       "      <td>4</td>\n",
       "      <td>204</td>\n",
       "      <td>7/10/2016 00:00</td>\n",
       "      <td>This is a bicycle</td>\n",
       "      <td>976</td>\n",
       "    </tr>\n",
       "    <tr>\n",
       "      <th>3</th>\n",
       "      <td>5</td>\n",
       "      <td>5</td>\n",
       "      <td>11</td>\n",
       "      <td>8/22/2016 00:00</td>\n",
       "      <td>Changed Oil</td>\n",
       "      <td>481</td>\n",
       "    </tr>\n",
       "    <tr>\n",
       "      <th>4</th>\n",
       "      <td>6</td>\n",
       "      <td>6</td>\n",
       "      <td>104</td>\n",
       "      <td>1/14/2016 00:00</td>\n",
       "      <td>Breaks are ok</td>\n",
       "      <td>278</td>\n",
       "    </tr>\n",
       "  </tbody>\n",
       "</table>\n",
       "</div>"
      ],
      "text/plain": [
       "      request_id                  date               comment  bill\n",
       "0  2           2  215  2/18/2016 00:00  We changed the color   592\n",
       "1  3           3   34   1/5/2016 00:00     This is a bicycle    77\n",
       "2  4           4  204  7/10/2016 00:00     This is a bicycle   976\n",
       "3  5           5   11  8/22/2016 00:00           Changed Oil   481\n",
       "4  6           6  104  1/14/2016 00:00         Breaks are ok   278"
      ]
     },
     "execution_count": 18,
     "metadata": {},
     "output_type": "execute_result"
    }
   ],
   "source": [
    "closed_request_df.columns = [\"\", \"request_id\", \"\", \"date\", \"comment\", \"bill\"]\n",
    "closed_request_df.head()"
   ]
  },
  {
   "cell_type": "code",
   "execution_count": null,
   "id": "332dc8d5-6a2d-46c9-8d41-d69e93af2f4a",
   "metadata": {},
   "outputs": [],
   "source": []
  }
 ],
 "metadata": {
  "kernelspec": {
   "display_name": "Python 3 (ipykernel)",
   "language": "python",
   "name": "python3"
  },
  "language_info": {
   "codemirror_mode": {
    "name": "ipython",
    "version": 3
   },
   "file_extension": ".py",
   "mimetype": "text/x-python",
   "name": "python",
   "nbconvert_exporter": "python",
   "pygments_lexer": "ipython3",
   "version": "3.11.5"
  },
  "widgets": {
   "application/vnd.jupyter.widget-state+json": {
    "state": {},
    "version_major": 2,
    "version_minor": 0
   }
  }
 },
 "nbformat": 4,
 "nbformat_minor": 5
}
